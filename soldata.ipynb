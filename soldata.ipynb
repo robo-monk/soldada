{
 "cells": [
  {
   "cell_type": "code",
   "execution_count": 158,
   "metadata": {},
   "outputs": [],
   "source": [
    "# from chess import Piece\n",
    "# from chess.Board import Board\n",
    "import numpy as np\n",
    "import torch\n",
    "import torch.nn.functional as F\n",
    "import math\n"
   ]
  },
  {
   "cell_type": "code",
   "execution_count": 240,
   "metadata": {},
   "outputs": [
    {
     "data": {
      "text/plain": [
       "tensor([1, 0, 0, 0, 0, 0, 0])"
      ]
     },
     "execution_count": 240,
     "metadata": {},
     "output_type": "execute_result"
    }
   ],
   "source": [
    "class Piece:\n",
    "  def __init__(self, type = None, color = None):\n",
    "    self.color = color\n",
    "    if type is not None: self.type = type\n",
    "    if self.color == 'b': self.type *= -1\n",
    "\n",
    "  def vectorize(self):\n",
    "    return F.one_hot(torch.tensor(self.type), num_classes=7)\n",
    "  \n",
    "  def render(self):\n",
    "    if self.type == 0: return '_'\n",
    "    assert(self.color is not None)\n",
    "    chars = {\n",
    "      'b': {\n",
    "        1: '♙',\n",
    "        2: '♘',\n",
    "        3: '♗',\n",
    "        4: '♖',\n",
    "        # 5: '♖',\n",
    "        5: '♕',\n",
    "        6: '♔'\n",
    "      }, 'w': {\n",
    "        1: '♟',\n",
    "        2: '♞',\n",
    "        3: '♝',\n",
    "        4: '♜',\n",
    "        5: '♛',\n",
    "        6: '♚'\n",
    "      }, \n",
    "    }\n",
    "\n",
    "    # return 'x'\n",
    "    \n",
    "    return chars[self.color][abs(self.type)]\n",
    "\n",
    "  def from_type(type):\n",
    "    color = None \n",
    "    # print(type)\n",
    "    if type < 0: color = 'b'\n",
    "    if type > 0: color = 'w'\n",
    "    return Piece(type=abs(type), color=color)\n",
    "    \n",
    "  def Empty(color=None): return Piece(type = 0, color = color)\n",
    "  def Pawn(color=None): return Piece(type = 1, color = color)\n",
    "  def Knight(color=None): return Piece(type = 2, color = color)\n",
    "  def Bishop(color=None): return Piece(type = 3, color = color)\n",
    "  def Rook(color=None): return Piece(type = 4, color = color)\n",
    "  def Queen(color=None): return Piece(type = 5, color = color)\n",
    "  def King(color=None): return Piece(type = 6, color = color)\n",
    "\n",
    "Piece.Empty().vectorize()\n",
    "Piece.Empty().vectorize()\n"
   ]
  },
  {
   "cell_type": "code",
   "execution_count": 306,
   "metadata": {},
   "outputs": [],
   "source": [
    "class Board:\n",
    "  def __init__(self):\n",
    "    \n",
    "    # self.squares = torch.tensor(np.array([] * 64))\n",
    "    # self.squares = torch.tensor(\n",
    "    # self.squares = np.full(64, [Piece.Empty().vectorize() for _ in range(64)])\n",
    "\n",
    "    self.squares = torch.tensor([(Piece.Empty('w').type) for _ in range(64)], dtype=torch.dtype['float'], requires_grad=True).view(8, 8)\n",
    "    # self.squares = torch.tensor(self.squares)\n",
    "# .fill(Piece.Empty().vectorize())\n",
    "    # self.squares = torch.tensor(np.zeros((8, 8))) # create an 8 * 8 grid\n",
    "    self.build()\n",
    "  \n",
    "  def render(self):\n",
    "    out = \"\"\n",
    "    for row in self.squares:\n",
    "      for col in row:\n",
    "        # out += \" ♞ \"\n",
    "        piece = Piece.from_type(col.item())\n",
    "        out += f\" {piece.render()} \"\n",
    "      out += \"\\n\"\n",
    "    return out\n",
    "        \n",
    "  def build(self):\n",
    "    # black side\n",
    "\n",
    "    def build_side(first_row, second_row, color):\n",
    "      for i in range(8): self.place(second_row, i, Piece.Pawn(color).type)\n",
    "\n",
    "      self.place(first_row, 0, Piece.Rook(color).type)\n",
    "      self.place(first_row, 7, Piece.Rook(color).type)\n",
    "\n",
    "      self.place(first_row, 1, Piece.Knight(color).type)\n",
    "      self.place(first_row, 6, Piece.Knight(color).type)\n",
    "\n",
    "      self.place(first_row, 2, Piece.Bishop(color).type)\n",
    "      self.place(first_row, 5, Piece.Bishop(color).type)\n",
    "\n",
    "      self.place(first_row, 3, Piece.Queen(color).type)\n",
    "      self.place(first_row, 4, Piece.King(color).type)\n",
    "\n",
    "    build_side(0, 1, 'b')\n",
    "    build_side(7, 6, 'w')\n",
    "    \n",
    "  def place(self, x, y, piece):\n",
    "    self.squares[x][y] = piece\n",
    "  \n",
    "  def __repr__(self):\n",
    "    return self.render()\n"
   ]
  },
  {
   "cell_type": "code",
   "execution_count": 307,
   "metadata": {},
   "outputs": [
    {
     "ename": "TypeError",
     "evalue": "tensor(): argument 'dtype' must be torch.dtype, not str",
     "output_type": "error",
     "traceback": [
      "\u001b[0;31m---------------------------------------------------------------------------\u001b[0m",
      "\u001b[0;31mTypeError\u001b[0m                                 Traceback (most recent call last)",
      "Cell \u001b[0;32mIn [307], line 1\u001b[0m\n\u001b[0;32m----> 1\u001b[0m board \u001b[38;5;241m=\u001b[39m \u001b[43mBoard\u001b[49m\u001b[43m(\u001b[49m\u001b[43m)\u001b[49m\n\u001b[1;32m      2\u001b[0m \u001b[38;5;28mprint\u001b[39m(board\u001b[38;5;241m.\u001b[39msquares)\n\u001b[1;32m      3\u001b[0m board\n",
      "Cell \u001b[0;32mIn [306], line 8\u001b[0m, in \u001b[0;36mBoard.__init__\u001b[0;34m(self)\u001b[0m\n\u001b[1;32m      2\u001b[0m   \u001b[38;5;28;01mdef\u001b[39;00m \u001b[38;5;21m__init__\u001b[39m(\u001b[38;5;28mself\u001b[39m):\n\u001b[1;32m      3\u001b[0m     \n\u001b[1;32m      4\u001b[0m     \u001b[38;5;66;03m# self.squares = torch.tensor(np.array([] * 64))\u001b[39;00m\n\u001b[1;32m      5\u001b[0m     \u001b[38;5;66;03m# self.squares = torch.tensor(\u001b[39;00m\n\u001b[1;32m      6\u001b[0m     \u001b[38;5;66;03m# self.squares = np.full(64, [Piece.Empty().vectorize() for _ in range(64)])\u001b[39;00m\n\u001b[0;32m----> 8\u001b[0m     \u001b[38;5;28mself\u001b[39m\u001b[38;5;241m.\u001b[39msquares \u001b[38;5;241m=\u001b[39m \u001b[43mtorch\u001b[49m\u001b[38;5;241;43m.\u001b[39;49m\u001b[43mtensor\u001b[49m\u001b[43m(\u001b[49m\u001b[43m[\u001b[49m\u001b[43m(\u001b[49m\u001b[43mPiece\u001b[49m\u001b[38;5;241;43m.\u001b[39;49m\u001b[43mEmpty\u001b[49m\u001b[43m(\u001b[49m\u001b[38;5;124;43m'\u001b[39;49m\u001b[38;5;124;43mw\u001b[39;49m\u001b[38;5;124;43m'\u001b[39;49m\u001b[43m)\u001b[49m\u001b[38;5;241;43m.\u001b[39;49m\u001b[43mtype\u001b[49m\u001b[43m)\u001b[49m\u001b[43m \u001b[49m\u001b[38;5;28;43;01mfor\u001b[39;49;00m\u001b[43m \u001b[49m\u001b[43m_\u001b[49m\u001b[43m \u001b[49m\u001b[38;5;129;43;01min\u001b[39;49;00m\u001b[43m \u001b[49m\u001b[38;5;28;43mrange\u001b[39;49m\u001b[43m(\u001b[49m\u001b[38;5;241;43m64\u001b[39;49m\u001b[43m)\u001b[49m\u001b[43m]\u001b[49m\u001b[43m,\u001b[49m\u001b[43m \u001b[49m\u001b[43mdtype\u001b[49m\u001b[38;5;241;43m=\u001b[39;49m\u001b[38;5;124;43m'\u001b[39;49m\u001b[38;5;124;43mfloat\u001b[39;49m\u001b[38;5;124;43m'\u001b[39;49m\u001b[43m,\u001b[49m\u001b[43m \u001b[49m\u001b[43mrequires_grad\u001b[49m\u001b[38;5;241;43m=\u001b[39;49m\u001b[38;5;28;43;01mTrue\u001b[39;49;00m\u001b[43m)\u001b[49m\u001b[38;5;241m.\u001b[39mview(\u001b[38;5;241m8\u001b[39m, \u001b[38;5;241m8\u001b[39m)\n\u001b[1;32m      9\u001b[0m     \u001b[38;5;66;03m# self.squares = torch.tensor(self.squares)\u001b[39;00m\n\u001b[1;32m     10\u001b[0m \u001b[38;5;66;03m# .fill(Piece.Empty().vectorize())\u001b[39;00m\n\u001b[1;32m     11\u001b[0m     \u001b[38;5;66;03m# self.squares = torch.tensor(np.zeros((8, 8))) # create an 8 * 8 grid\u001b[39;00m\n\u001b[1;32m     12\u001b[0m     \u001b[38;5;28mself\u001b[39m\u001b[38;5;241m.\u001b[39mbuild()\n",
      "\u001b[0;31mTypeError\u001b[0m: tensor(): argument 'dtype' must be torch.dtype, not str"
     ]
    }
   ],
   "source": [
    "board = Board()\n",
    "print(board.squares)\n",
    "board"
   ]
  },
  {
   "cell_type": "code",
   "execution_count": 297,
   "metadata": {},
   "outputs": [
    {
     "name": "stdout",
     "output_type": "stream",
     "text": [
      "tensor([[ 0.,  0.,  0.,  0.,  0.,  0.,  0.,  0.],\n",
      "        [ 0.,  0.,  1.,  0.,  0.,  0.,  0.,  0.],\n",
      "        [ 0.,  0.,  0.,  0.,  0.,  0.,  0.,  0.],\n",
      "        [ 0.,  0., -1.,  0.,  0.,  0.,  0.,  0.],\n",
      "        [ 0.,  0.,  0.,  0.,  0.,  0.,  0.,  0.],\n",
      "        [ 0.,  0.,  0.,  0.,  0.,  0.,  0.,  0.],\n",
      "        [ 0.,  0.,  0.,  0.,  0.,  0.,  0.,  0.],\n",
      "        [ 0.,  0.,  0.,  0.,  0.,  0.,  0.,  0.]])\n"
     ]
    }
   ],
   "source": [
    "move = torch.zeros((8, 8)).float()\n",
    "\n",
    "start = (1, 2)\n",
    "to = (3, 2)\n",
    "# print(move)\n",
    "\n",
    "move[to[0]][to[1]] = board.squares[start[0]][start[1]]\n",
    "move[start[0]][start[1]] -= board.squares[start[0]][start[1]]\n",
    "\n",
    "# board.squares[to[0]][to[1]] = board.squares[start[0]][start[1]]\n",
    "# board.squares[start[0]][start[1]] -= board.squares[start[0]][start[1]]\n",
    "\n",
    "print(move)\n",
    "board.squares += move.long()\n"
   ]
  },
  {
   "cell_type": "code",
   "execution_count": 299,
   "metadata": {},
   "outputs": [
    {
     "ename": "RuntimeError",
     "evalue": "element 0 of tensors does not require grad and does not have a grad_fn",
     "output_type": "error",
     "traceback": [
      "\u001b[0;31m---------------------------------------------------------------------------\u001b[0m",
      "\u001b[0;31mRuntimeError\u001b[0m                              Traceback (most recent call last)",
      "Cell \u001b[0;32mIn [299], line 3\u001b[0m\n\u001b[1;32m      1\u001b[0m \u001b[38;5;28;01mfor\u001b[39;00m s \u001b[38;5;129;01min\u001b[39;00m board\u001b[38;5;241m.\u001b[39msquares: s\u001b[38;5;241m.\u001b[39mrequires_grad \u001b[38;5;241m=\u001b[39m \u001b[38;5;28;01mTrue\u001b[39;00m\n\u001b[0;32m----> 3\u001b[0m \u001b[43mboard\u001b[49m\u001b[38;5;241;43m.\u001b[39;49m\u001b[43msquares\u001b[49m\u001b[38;5;241;43m.\u001b[39;49m\u001b[43mbackward\u001b[49m\u001b[43m(\u001b[49m\u001b[43m)\u001b[49m\n",
      "File \u001b[0;32m/opt/homebrew/lib/python3.10/site-packages/torch/_tensor.py:396\u001b[0m, in \u001b[0;36mTensor.backward\u001b[0;34m(self, gradient, retain_graph, create_graph, inputs)\u001b[0m\n\u001b[1;32m    387\u001b[0m \u001b[39mif\u001b[39;00m has_torch_function_unary(\u001b[39mself\u001b[39m):\n\u001b[1;32m    388\u001b[0m     \u001b[39mreturn\u001b[39;00m handle_torch_function(\n\u001b[1;32m    389\u001b[0m         Tensor\u001b[39m.\u001b[39mbackward,\n\u001b[1;32m    390\u001b[0m         (\u001b[39mself\u001b[39m,),\n\u001b[0;32m   (...)\u001b[0m\n\u001b[1;32m    394\u001b[0m         create_graph\u001b[39m=\u001b[39mcreate_graph,\n\u001b[1;32m    395\u001b[0m         inputs\u001b[39m=\u001b[39minputs)\n\u001b[0;32m--> 396\u001b[0m torch\u001b[39m.\u001b[39;49mautograd\u001b[39m.\u001b[39;49mbackward(\u001b[39mself\u001b[39;49m, gradient, retain_graph, create_graph, inputs\u001b[39m=\u001b[39;49minputs)\n",
      "File \u001b[0;32m/opt/homebrew/lib/python3.10/site-packages/torch/autograd/__init__.py:173\u001b[0m, in \u001b[0;36mbackward\u001b[0;34m(tensors, grad_tensors, retain_graph, create_graph, grad_variables, inputs)\u001b[0m\n\u001b[1;32m    168\u001b[0m     retain_graph \u001b[39m=\u001b[39m create_graph\n\u001b[1;32m    170\u001b[0m \u001b[39m# The reason we repeat same the comment below is that\u001b[39;00m\n\u001b[1;32m    171\u001b[0m \u001b[39m# some Python versions print out the first line of a multi-line function\u001b[39;00m\n\u001b[1;32m    172\u001b[0m \u001b[39m# calls in the traceback and some print out the last line\u001b[39;00m\n\u001b[0;32m--> 173\u001b[0m Variable\u001b[39m.\u001b[39;49m_execution_engine\u001b[39m.\u001b[39;49mrun_backward(  \u001b[39m# Calls into the C++ engine to run the backward pass\u001b[39;49;00m\n\u001b[1;32m    174\u001b[0m     tensors, grad_tensors_, retain_graph, create_graph, inputs,\n\u001b[1;32m    175\u001b[0m     allow_unreachable\u001b[39m=\u001b[39;49m\u001b[39mTrue\u001b[39;49;00m, accumulate_grad\u001b[39m=\u001b[39;49m\u001b[39mTrue\u001b[39;49;00m)\n",
      "\u001b[0;31mRuntimeError\u001b[0m: element 0 of tensors does not require grad and does not have a grad_fn"
     ]
    }
   ],
   "source": [
    "for s in board.squares: s.requires_grad = True\n",
    "\n",
    "board.squares.backward()"
   ]
  },
  {
   "cell_type": "code",
   "execution_count": null,
   "metadata": {},
   "outputs": [],
   "source": []
  }
 ],
 "metadata": {
  "kernelspec": {
   "display_name": "Python 3.10.6 64-bit",
   "language": "python",
   "name": "python3"
  },
  "language_info": {
   "codemirror_mode": {
    "name": "ipython",
    "version": 3
   },
   "file_extension": ".py",
   "mimetype": "text/x-python",
   "name": "python",
   "nbconvert_exporter": "python",
   "pygments_lexer": "ipython3",
   "version": "3.10.6"
  },
  "orig_nbformat": 4,
  "vscode": {
   "interpreter": {
    "hash": "b0fa6594d8f4cbf19f97940f81e996739fb7646882a419484c72d19e05852a7e"
   }
  }
 },
 "nbformat": 4,
 "nbformat_minor": 2
}
