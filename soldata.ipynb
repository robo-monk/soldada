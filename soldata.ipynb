{
 "cells": [
  {
   "cell_type": "code",
   "execution_count": 158,
   "metadata": {},
   "outputs": [],
   "source": [
    "# from chess import Piece\n",
    "# from chess.Board import Board\n",
    "import numpy as np\n",
    "import torch\n",
    "import torch.nn.functional as F\n",
    "import math\n"
   ]
  },
  {
   "cell_type": "code",
   "execution_count": 240,
   "metadata": {},
   "outputs": [
    {
     "data": {
      "text/plain": [
       "tensor([1, 0, 0, 0, 0, 0, 0])"
      ]
     },
     "execution_count": 240,
     "metadata": {},
     "output_type": "execute_result"
    }
   ],
   "source": [
    "class Piece:\n",
    "  def __init__(self, type = None, color = None):\n",
    "    self.color = color\n",
    "    if type is not None: self.type = type\n",
    "    if self.color == 'b': self.type *= -1\n",
    "\n",
    "  def vectorize(self):\n",
    "    return F.one_hot(torch.tensor(self.type), num_classes=7)\n",
    "  \n",
    "  def render(self):\n",
    "    if self.type == 0: return '_'\n",
    "    assert(self.color is not None)\n",
    "    chars = {\n",
    "      'b': {\n",
    "        1: '♙',\n",
    "        2: '♘',\n",
    "        3: '♗',\n",
    "        4: '♖',\n",
    "        # 5: '♖',\n",
    "        5: '♕',\n",
    "        6: '♔'\n",
    "      }, 'w': {\n",
    "        1: '♟',\n",
    "        2: '♞',\n",
    "        3: '♝',\n",
    "        4: '♜',\n",
    "        5: '♛',\n",
    "        6: '♚'\n",
    "      }, \n",
    "    }\n",
    "\n",
    "    # return 'x'\n",
    "    \n",
    "    return chars[self.color][abs(self.type)]\n",
    "\n",
    "  def from_type(type):\n",
    "    color = None \n",
    "    # print(type)\n",
    "    if type < 0: color = 'b'\n",
    "    if type > 0: color = 'w'\n",
    "    return Piece(type=abs(type), color=color)\n",
    "    \n",
    "  def Empty(color=None): return Piece(type = 0, color = color)\n",
    "  def Pawn(color=None): return Piece(type = 1, color = color)\n",
    "  def Knight(color=None): return Piece(type = 2, color = color)\n",
    "  def Bishop(color=None): return Piece(type = 3, color = color)\n",
    "  def Rook(color=None): return Piece(type = 4, color = color)\n",
    "  def Queen(color=None): return Piece(type = 5, color = color)\n",
    "  def King(color=None): return Piece(type = 6, color = color)\n",
    "\n",
    "Piece.Empty().vectorize()\n",
    "Piece.Empty().vectorize()\n"
   ]
  },
  {
   "cell_type": "code",
   "execution_count": 278,
   "metadata": {},
   "outputs": [],
   "source": [
    "class Board:\n",
    "  def __init__(self):\n",
    "    \n",
    "    # self.squares = torch.tensor(np.array([] * 64))\n",
    "    # self.squares = torch.tensor(\n",
    "    # self.squares = np.full(64, [Piece.Empty().vectorize() for _ in range(64)])\n",
    "\n",
    "    self.squares = torch.tensor([Piece.Empty('w').type for _ in range(64)]).view(8, 8)\n",
    "    # self.squares = torch.tensor(self.squares)\n",
    "# .fill(Piece.Empty().vectorize())\n",
    "    # self.squares = torch.tensor(np.zeros((8, 8))) # create an 8 * 8 grid\n",
    "    self.build()\n",
    "  \n",
    "  def render(self):\n",
    "    out = \"\"\n",
    "    for row in self.squares:\n",
    "      for col in row:\n",
    "        # out += \" ♞ \"\n",
    "        piece = Piece.from_type(col.item())\n",
    "        out += f\" {piece.render()} \"\n",
    "      out += \"\\n\"\n",
    "    return out\n",
    "        \n",
    "  def build(self):\n",
    "    # black side\n",
    "\n",
    "    def build_side(first_row, second_row, color):\n",
    "      for i in range(8): self.place(second_row, i, Piece.Pawn(color).type)\n",
    "\n",
    "      self.place(first_row, 0, Piece.Rook(color).type)\n",
    "      self.place(first_row, 7, Piece.Rook(color).type)\n",
    "\n",
    "      self.place(first_row, 1, Piece.Knight(color).type)\n",
    "      self.place(first_row, 6, Piece.Knight(color).type)\n",
    "\n",
    "      self.place(first_row, 2, Piece.Bishop(color).type)\n",
    "      self.place(first_row, 5, Piece.Bishop(color).type)\n",
    "\n",
    "      self.place(first_row, 3, Piece.Queen(color).type)\n",
    "      self.place(first_row, 4, Piece.King(color).type)\n",
    "\n",
    "    build_side(0, 1, 'b')\n",
    "    build_side(7, 6, 'w')\n",
    "    \n",
    "  def place(self, x, y, piece):\n",
    "    self.squares[x][y] = piece\n",
    "  \n",
    "  def __repr__(self):\n",
    "    return self.render()\n"
   ]
  },
  {
   "cell_type": "code",
   "execution_count": 288,
   "metadata": {},
   "outputs": [
    {
     "name": "stdout",
     "output_type": "stream",
     "text": [
      "tensor([[-4, -2, -3, -5, -6, -3, -2, -4],\n",
      "        [-1, -1, -1, -1, -1, -1, -1, -1],\n",
      "        [ 0,  0,  0,  0,  0,  0,  0,  0],\n",
      "        [ 0,  0,  0,  0,  0,  0,  0,  0],\n",
      "        [ 0,  0,  0,  0,  0,  0,  0,  0],\n",
      "        [ 0,  0,  0,  0,  0,  0,  0,  0],\n",
      "        [ 1,  1,  1,  1,  1,  1,  1,  1],\n",
      "        [ 4,  2,  3,  5,  6,  3,  2,  4]])\n"
     ]
    },
    {
     "data": {
      "text/plain": [
       " ♖  ♘  ♗  ♕  ♔  ♗  ♘  ♖ \n",
       " ♙  ♙  ♙  ♙  ♙  ♙  ♙  ♙ \n",
       " _  _  _  _  _  _  _  _ \n",
       " _  _  _  _  _  _  _  _ \n",
       " _  _  _  _  _  _  _  _ \n",
       " _  _  _  _  _  _  _  _ \n",
       " ♟  ♟  ♟  ♟  ♟  ♟  ♟  ♟ \n",
       " ♜  ♞  ♝  ♛  ♚  ♝  ♞  ♜ "
      ]
     },
     "execution_count": 288,
     "metadata": {},
     "output_type": "execute_result"
    }
   ],
   "source": [
    "board = Board()\n",
    "print(board.squares)\n",
    "board"
   ]
  },
  {
   "cell_type": "code",
   "execution_count": 290,
   "metadata": {},
   "outputs": [
    {
     "name": "stdout",
     "output_type": "stream",
     "text": [
      "tensor([[ 0.,  0.,  0.,  0.,  0.,  0.,  0.,  0.],\n",
      "        [ 0.,  0.,  1.,  0.,  0.,  0.,  0.,  0.],\n",
      "        [ 0.,  0.,  0.,  0.,  0.,  0.,  0.,  0.],\n",
      "        [ 0.,  0., -1.,  0.,  0.,  0.,  0.,  0.],\n",
      "        [ 0.,  0.,  0.,  0.,  0.,  0.,  0.,  0.],\n",
      "        [ 0.,  0.,  0.,  0.,  0.,  0.,  0.,  0.],\n",
      "        [ 0.,  0.,  0.,  0.,  0.,  0.,  0.,  0.],\n",
      "        [ 0.,  0.,  0.,  0.,  0.,  0.,  0.,  0.]])\n"
     ]
    },
    {
     "data": {
      "text/plain": [
       " ♖  ♘  ♗  ♕  ♔  ♗  ♘  ♖ \n",
       " ♙  ♙  _  ♙  ♙  ♙  ♙  ♙ \n",
       " _  _  _  _  _  _  _  _ \n",
       " _  _  ♙  _  _  _  _  _ \n",
       " _  _  _  _  _  _  _  _ \n",
       " _  _  _  _  _  _  _  _ \n",
       " ♟  ♟  ♟  ♟  ♟  ♟  ♟  ♟ \n",
       " ♜  ♞  ♝  ♛  ♚  ♝  ♞  ♜ "
      ]
     },
     "execution_count": 290,
     "metadata": {},
     "output_type": "execute_result"
    }
   ],
   "source": [
    "move = torch.zeros((8, 8))\n",
    "\n",
    "start = (1, 2)\n",
    "to = (3, 2)\n",
    "# print(move)\n",
    "\n",
    "move[to[0]][to[1]] = board.squares[start[0]][start[1]]\n",
    "move[start[0]][start[1]] -= board.squares[start[0]][start[1]]\n",
    "\n",
    "# board.squares[to[0]][to[1]] = board.squares[start[0]][start[1]]\n",
    "# board.squares[start[0]][start[1]] -= board.squares[start[0]][start[1]]\n",
    "\n",
    "print(move)\n",
    "board.squares += move.long()\n",
    "board"
   ]
  },
  {
   "cell_type": "code",
   "execution_count": null,
   "metadata": {},
   "outputs": [],
   "source": []
  },
  {
   "cell_type": "code",
   "execution_count": null,
   "metadata": {},
   "outputs": [],
   "source": []
  }
 ],
 "metadata": {
  "kernelspec": {
   "display_name": "Python 3.10.6 64-bit",
   "language": "python",
   "name": "python3"
  },
  "language_info": {
   "codemirror_mode": {
    "name": "ipython",
    "version": 3
   },
   "file_extension": ".py",
   "mimetype": "text/x-python",
   "name": "python",
   "nbconvert_exporter": "python",
   "pygments_lexer": "ipython3",
   "version": "3.10.6"
  },
  "orig_nbformat": 4,
  "vscode": {
   "interpreter": {
    "hash": "b0fa6594d8f4cbf19f97940f81e996739fb7646882a419484c72d19e05852a7e"
   }
  }
 },
 "nbformat": 4,
 "nbformat_minor": 2
}
